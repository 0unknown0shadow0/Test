{
  "nbformat": 4,
  "nbformat_minor": 0,
  "metadata": {
    "colab": {
      "name": "Copy of 023 converting scanned PDFs to excel for accounting",
      "provenance": [],
      "include_colab_link": true
    },
    "kernelspec": {
      "name": "python3",
      "display_name": "Python 3"
    }
  },
  "cells": [
    {
      "cell_type": "markdown",
      "metadata": {
        "id": "view-in-github",
        "colab_type": "text"
      },
      "source": [
        "<a href=\"https://colab.research.google.com/github/x-danger/Test/blob/master/Copy_of_023_converting_scanned_PDFs_to_excel_for_accounting.ipynb\" target=\"_parent\"><img src=\"https://colab.research.google.com/assets/colab-badge.svg\" alt=\"Open In Colab\"/></a>"
      ]
    },
    {
      "cell_type": "code",
      "metadata": {
        "id": "zkyeOqINJf2V",
        "colab": {
          "base_uri": "https://localhost:8080/"
        },
        "outputId": "742dd8d1-b94f-4a45-f8f1-e19e1fb0103f"
      },
      "source": [
        "!apt-get install ocrmypdf -q"
      ],
      "execution_count": null,
      "outputs": [
        {
          "output_type": "stream",
          "text": [
            "Reading package lists...\n",
            "Building dependency tree...\n",
            "Reading state information...\n",
            "ocrmypdf is already the newest version (6.1.2-1ubuntu1.1).\n",
            "0 upgraded, 0 newly installed, 0 to remove and 13 not upgraded.\n"
          ],
          "name": "stdout"
        }
      ]
    },
    {
      "cell_type": "code",
      "metadata": {
        "id": "OIkKFZW-7gSS"
      },
      "source": [
        "!pip install pdfplumber -q"
      ],
      "execution_count": null,
      "outputs": []
    },
    {
      "cell_type": "code",
      "metadata": {
        "id": "bnD8KiTZK7-H"
      },
      "source": [
        "import os\n",
        "\n",
        "import requests\n",
        "import pdfplumber"
      ],
      "execution_count": null,
      "outputs": []
    },
    {
      "cell_type": "code",
      "metadata": {
        "id": "gAg5Ob3dPbx_"
      },
      "source": [
        "def download_file(url):\n",
        "    local_filename = url.split('/')[-1]\n",
        "    \n",
        "    with requests.get(url) as r:\n",
        "        assert r.status_code == 200, f'error, status code is {r.status_code}'\n",
        "        with open(local_filename, 'wb') as f:\n",
        "            f.write(r.content)\n",
        "        \n",
        "    return local_filename"
      ],
      "execution_count": null,
      "outputs": []
    },
    {
      "cell_type": "code",
      "metadata": {
        "id": "fh1M72iz7mGP"
      },
      "source": [
        "invoice = 'https://bit.ly/3uBQEhv'\n",
        "invoice_pdf = download_file(invoice)"
      ],
      "execution_count": null,
      "outputs": []
    },
    {
      "cell_type": "code",
      "metadata": {
        "id": "5DnRw5RlXmq5",
        "colab": {
          "base_uri": "https://localhost:8080/",
          "height": 35
        },
        "outputId": "65ad39c8-5d0c-4039-c907-e83fcb1c3feb"
      },
      "source": [
        "invoice_pdf"
      ],
      "execution_count": null,
      "outputs": [
        {
          "output_type": "execute_result",
          "data": {
            "application/vnd.google.colaboratory.intrinsic+json": {
              "type": "string"
            },
            "text/plain": [
              "'3uBQEhv'"
            ]
          },
          "metadata": {
            "tags": []
          },
          "execution_count": 32
        }
      ]
    },
    {
      "cell_type": "code",
      "metadata": {
        "id": "hjHUB9b87ypz",
        "colab": {
          "base_uri": "https://localhost:8080/"
        },
        "outputId": "cb75caef-111f-4d6f-be66-e3720ead077a"
      },
      "source": [
        "with pdfplumber.open(invoice_pdf) as pdf:\n",
        "    page = pdf.pages[0]\n",
        "    text = page.extract_text()\n",
        "    print(text)"
      ],
      "execution_count": null,
      "outputs": [
        {
          "output_type": "stream",
          "text": [
            "1\n",
            "    011 780000019 210 00 67320 08\n",
            "     \n",
            "                                                              C780-19        R\n",
            " DIRHAM     COMPTES COURANTS COMMERCI                         M INCONNU VILLAJENA\n",
            "            AUX\n",
            "                                                              67 69 AVENUE DE L ARMEE ROYALE\n",
            "     \n",
            "    CENTRE AFFAIRES HASS\n",
            "    140 AV HASSAN II                                          20000 CASABLANCA\n",
            "                                                              MAROC\n",
            "    05 22 20 04 78\n",
            "                                                              *7800019210006732008*\n",
            "     \n",
            "   1/1           01 01 2018      31 01 2018\n",
            "     \n",
            "     \n",
            "     \n",
            "     \n",
            "     \n",
            " 31 12    SOLDE                                                                                             1 023,85\n",
            " 02 01    PAIEMENT DE VOTRE CHEQUE NUMERO      8417647             29 12            120 000,00\n",
            " 02 01    TVA FRAIS DE PAIEMENT DE VOS OPERATIONS EN DEPASSEMENT   02 01                  9,00\n",
            "          DU SOLDE\n",
            " 02 01    FRAIS DE PAIEMENT DE VOS OPERATIONS EN DEPASSEMENT DU S  02 01                 90,00\n",
            "          OLDE\n",
            " 02 01    CU1140507985  RACHAT OPCVM: FCP CAPITAL OBLIG0000000000  02 01                                  120 124,00\n",
            "          100.00000000012012402012018\n",
            " 10 01    FRAIS ECHELLE                                            01 01                 22,00\n",
            " 10 01    FRAIS T.COMPTE                                           01 01                 82,50\n",
            " 29 01    MISE A DISPOSITION : ABDELLAH ECHAKAR                    29 01                740,00\n",
            " 29 01    COMMISION / FRAIS PORT DE LETTRE /TVA MISE A DISPOSITIO  29 01                 33,00\n",
            "          N ABDELLAH ECHAKAR\n",
            " 31 01    CU1140533500  SOUSCRIPTION OPCVM :FCP CAPITAL OBLIG0000  31 01             51 751,36\n",
            "          000000043.00000000012035231012018\n",
            " 31 01    CU1140533491  RACHAT OPCVM: FCP CAPITAL OBLIG0000000000  31 01                                   51 751,36\n",
            "          043.00000000012035231012018\n",
            "     \n",
            "     \n",
            "     \n",
            "     \n",
            "     \n",
            "     \n",
            "     \n",
            "     \n",
            "     \n",
            "     \n",
            "     \n",
            "                                                                                    172 727,86            171 875,36\n",
            "     \n",
            "                                                                                                              171,35\n",
            "     \n"
          ],
          "name": "stdout"
        }
      ]
    },
    {
      "cell_type": "code",
      "metadata": {
        "id": "GCLypZf_z0jF",
        "colab": {
          "base_uri": "https://localhost:8080/"
        },
        "outputId": "50a5537c-f5a3-44e9-a04b-88debe16f45e"
      },
      "source": [
        "os.system(f'ocrmypdf {invoice_pdf} output.pdf')"
      ],
      "execution_count": null,
      "outputs": [
        {
          "output_type": "execute_result",
          "data": {
            "text/plain": [
              "256"
            ]
          },
          "metadata": {
            "tags": []
          },
          "execution_count": 44
        }
      ]
    },
    {
      "cell_type": "code",
      "metadata": {
        "id": "psTdGdHm-IKm",
        "colab": {
          "base_uri": "https://localhost:8080/"
        },
        "outputId": "bae5a5e9-7100-481a-b849-8bf198dc543a"
      },
      "source": [
        "with pdfplumber.open(invoice_pdf) as pdf:\n",
        "    page = pdf.pages[0]\n",
        "    text = page.extract_text(x_tolerance=2)\n",
        "    print(text)"
      ],
      "execution_count": null,
      "outputs": [
        {
          "output_type": "stream",
          "text": [
            "1\n",
            "    011 780000019 210 00 67320 08\n",
            "     \n",
            "                                                              C780-19        R\n",
            " DIRHAM     COMPTES COURANTS COMMERCI                         M INCONNU VILLAJENA\n",
            "            AUX\n",
            "                                                              67 69 AVENUE DE L ARMEE ROYALE\n",
            "     \n",
            "    CENTRE AFFAIRES HASS\n",
            "    140 AV HASSAN II                                          20000 CASABLANCA\n",
            "                                                              MAROC\n",
            "    05 22 20 04 78\n",
            "                                                              *7800019210006732008*\n",
            "     \n",
            "   1/1           01 01 2018      31 01 2018\n",
            "     \n",
            "     \n",
            "     \n",
            "     \n",
            "     \n",
            " 31 12    SOLDE                                                                                             1 023,85\n",
            " 02 01    PAIEMENT DE VOTRE CHEQUE NUMERO      8417647             29 12            120 000,00\n",
            " 02 01    TVA FRAIS DE PAIEMENT DE VOS OPERATIONS EN DEPASSEMENT   02 01                  9,00\n",
            "          DU SOLDE\n",
            " 02 01    FRAIS DE PAIEMENT DE VOS OPERATIONS EN DEPASSEMENT DU S  02 01                 90,00\n",
            "          OLDE\n",
            " 02 01    CU1140507985  RACHAT OPCVM: FCP CAPITAL OBLIG0000000000  02 01                                  120 124,00\n",
            "          100.00000000012012402012018\n",
            " 10 01    FRAIS ECHELLE                                            01 01                 22,00\n",
            " 10 01    FRAIS T.COMPTE                                           01 01                 82,50\n",
            " 29 01    MISE A DISPOSITION : ABDELLAH ECHAKAR                    29 01                740,00\n",
            " 29 01    COMMISION / FRAIS PORT DE LETTRE /TVA MISE A DISPOSITIO  29 01                 33,00\n",
            "          N ABDELLAH ECHAKAR\n",
            " 31 01    CU1140533500  SOUSCRIPTION OPCVM :FCP CAPITAL OBLIG0000  31 01             51 751,36\n",
            "          000000043.00000000012035231012018\n",
            " 31 01    CU1140533491  RACHAT OPCVM: FCP CAPITAL OBLIG0000000000  31 01                                   51 751,36\n",
            "          043.00000000012035231012018\n",
            "     \n",
            "     \n",
            "     \n",
            "     \n",
            "     \n",
            "     \n",
            "     \n",
            "     \n",
            "     \n",
            "     \n",
            "     \n",
            "                                                                                    172 727,86            171 875,36\n",
            "     \n",
            "                                                                                                              171,35\n",
            "     \n"
          ],
          "name": "stdout"
        }
      ]
    },
    {
      "cell_type": "code",
      "metadata": {
        "id": "4eUU1w5d4fBP"
      },
      "source": [
        "lines = text.split('\\n')"
      ],
      "execution_count": null,
      "outputs": []
    },
    {
      "cell_type": "code",
      "metadata": {
        "id": "1h6Y8UqgU9si",
        "colab": {
          "base_uri": "https://localhost:8080/"
        },
        "outputId": "f602358c-cf41-496c-b238-43755971719c"
      },
      "source": [
        "lines"
      ],
      "execution_count": null,
      "outputs": [
        {
          "output_type": "execute_result",
          "data": {
            "text/plain": [
              "['1',\n",
              " '    011 780000019 210 00 67320 08',\n",
              " '     ',\n",
              " '                                                              C780-19        R',\n",
              " ' DIRHAM     COMPTES COURANTS COMMERCI                         M INCONNU VILLAJENA',\n",
              " '            AUX',\n",
              " '                                                              67 69 AVENUE DE L ARMEE ROYALE',\n",
              " '     ',\n",
              " '    CENTRE AFFAIRES HASS',\n",
              " '    140 AV HASSAN II                                          20000 CASABLANCA',\n",
              " '                                                              MAROC',\n",
              " '    05 22 20 04 78',\n",
              " '                                                              *7800019210006732008*',\n",
              " '     ',\n",
              " '   1/1           01 01 2018      31 01 2018',\n",
              " '     ',\n",
              " '     ',\n",
              " '     ',\n",
              " '     ',\n",
              " '     ',\n",
              " ' 31 12    SOLDE                                                                                             1 023,85',\n",
              " ' 02 01    PAIEMENT DE VOTRE CHEQUE NUMERO      8417647             29 12            120 000,00',\n",
              " ' 02 01    TVA FRAIS DE PAIEMENT DE VOS OPERATIONS EN DEPASSEMENT   02 01                  9,00',\n",
              " '          DU SOLDE',\n",
              " ' 02 01    FRAIS DE PAIEMENT DE VOS OPERATIONS EN DEPASSEMENT DU S  02 01                 90,00',\n",
              " '          OLDE',\n",
              " ' 02 01    CU1140507985  RACHAT OPCVM: FCP CAPITAL OBLIG0000000000  02 01                                  120 124,00',\n",
              " '          100.00000000012012402012018',\n",
              " ' 10 01    FRAIS ECHELLE                                            01 01                 22,00',\n",
              " ' 10 01    FRAIS T.COMPTE                                           01 01                 82,50',\n",
              " ' 29 01    MISE A DISPOSITION : ABDELLAH ECHAKAR                    29 01                740,00',\n",
              " ' 29 01    COMMISION / FRAIS PORT DE LETTRE /TVA MISE A DISPOSITIO  29 01                 33,00',\n",
              " '          N ABDELLAH ECHAKAR',\n",
              " ' 31 01    CU1140533500  SOUSCRIPTION OPCVM :FCP CAPITAL OBLIG0000  31 01             51 751,36',\n",
              " '          000000043.00000000012035231012018',\n",
              " ' 31 01    CU1140533491  RACHAT OPCVM: FCP CAPITAL OBLIG0000000000  31 01                                   51 751,36',\n",
              " '          043.00000000012035231012018',\n",
              " '     ',\n",
              " '     ',\n",
              " '     ',\n",
              " '     ',\n",
              " '     ',\n",
              " '     ',\n",
              " '     ',\n",
              " '     ',\n",
              " '     ',\n",
              " '     ',\n",
              " '     ',\n",
              " '                                                                                    172 727,86            171 875,36',\n",
              " '     ',\n",
              " '                                                                                                              171,35',\n",
              " '     ']"
            ]
          },
          "metadata": {
            "tags": []
          },
          "execution_count": 53
        }
      ]
    },
    {
      "cell_type": "code",
      "metadata": {
        "id": "IxKbWlrJVA0R"
      },
      "source": [
        "import re"
      ],
      "execution_count": null,
      "outputs": []
    },
    {
      "cell_type": "code",
      "metadata": {
        "id": "FYszGGphYTI7"
      },
      "source": [
        "amt_re = re.compile(r'\\.\\d\\d$')"
      ],
      "execution_count": null,
      "outputs": []
    },
    {
      "cell_type": "code",
      "metadata": {
        "id": "d6GxjOnUYXzY"
      },
      "source": [
        "subt = 0\n",
        "\n",
        "for line in lines:\n",
        "    if 'SUBTOTAL' in line:\n",
        "        break\n",
        "    if amt_re.search(line):\n",
        "        subt += float(line.split()[-1].replace(',', '').replace('$', ''))"
      ],
      "execution_count": null,
      "outputs": []
    },
    {
      "cell_type": "code",
      "metadata": {
        "id": "zf7IUBoUYbOD",
        "colab": {
          "base_uri": "https://localhost:8080/"
        },
        "outputId": "03cc6db3-18b1-4824-c2d9-53ef9889e6de"
      },
      "source": [
        "subt"
      ],
      "execution_count": null,
      "outputs": [
        {
          "output_type": "execute_result",
          "data": {
            "text/plain": [
              "0"
            ]
          },
          "metadata": {
            "tags": []
          },
          "execution_count": 57
        }
      ]
    },
    {
      "cell_type": "code",
      "metadata": {
        "id": "Ej2AUIsfYxw0",
        "colab": {
          "base_uri": "https://localhost:8080/"
        },
        "outputId": "9f4acb95-d91b-4fde-a239-0a02f9403737"
      },
      "source": [
        "lines"
      ],
      "execution_count": null,
      "outputs": [
        {
          "output_type": "execute_result",
          "data": {
            "text/plain": [
              "['1',\n",
              " '    011 780000019 210 00 67320 08',\n",
              " '     ',\n",
              " '                                                              C780-19        R',\n",
              " ' DIRHAM     COMPTES COURANTS COMMERCI                         M INCONNU VILLAJENA',\n",
              " '            AUX',\n",
              " '                                                              67 69 AVENUE DE L ARMEE ROYALE',\n",
              " '     ',\n",
              " '    CENTRE AFFAIRES HASS',\n",
              " '    140 AV HASSAN II                                          20000 CASABLANCA',\n",
              " '                                                              MAROC',\n",
              " '    05 22 20 04 78',\n",
              " '                                                              *7800019210006732008*',\n",
              " '     ',\n",
              " '   1/1           01 01 2018      31 01 2018',\n",
              " '     ',\n",
              " '     ',\n",
              " '     ',\n",
              " '     ',\n",
              " '     ',\n",
              " ' 31 12    SOLDE                                                                                             1 023,85',\n",
              " ' 02 01    PAIEMENT DE VOTRE CHEQUE NUMERO      8417647             29 12            120 000,00',\n",
              " ' 02 01    TVA FRAIS DE PAIEMENT DE VOS OPERATIONS EN DEPASSEMENT   02 01                  9,00',\n",
              " '          DU SOLDE',\n",
              " ' 02 01    FRAIS DE PAIEMENT DE VOS OPERATIONS EN DEPASSEMENT DU S  02 01                 90,00',\n",
              " '          OLDE',\n",
              " ' 02 01    CU1140507985  RACHAT OPCVM: FCP CAPITAL OBLIG0000000000  02 01                                  120 124,00',\n",
              " '          100.00000000012012402012018',\n",
              " ' 10 01    FRAIS ECHELLE                                            01 01                 22,00',\n",
              " ' 10 01    FRAIS T.COMPTE                                           01 01                 82,50',\n",
              " ' 29 01    MISE A DISPOSITION : ABDELLAH ECHAKAR                    29 01                740,00',\n",
              " ' 29 01    COMMISION / FRAIS PORT DE LETTRE /TVA MISE A DISPOSITIO  29 01                 33,00',\n",
              " '          N ABDELLAH ECHAKAR',\n",
              " ' 31 01    CU1140533500  SOUSCRIPTION OPCVM :FCP CAPITAL OBLIG0000  31 01             51 751,36',\n",
              " '          000000043.00000000012035231012018',\n",
              " ' 31 01    CU1140533491  RACHAT OPCVM: FCP CAPITAL OBLIG0000000000  31 01                                   51 751,36',\n",
              " '          043.00000000012035231012018',\n",
              " '     ',\n",
              " '     ',\n",
              " '     ',\n",
              " '     ',\n",
              " '     ',\n",
              " '     ',\n",
              " '     ',\n",
              " '     ',\n",
              " '     ',\n",
              " '     ',\n",
              " '     ',\n",
              " '                                                                                    172 727,86            171 875,36',\n",
              " '     ',\n",
              " '                                                                                                              171,35',\n",
              " '     ']"
            ]
          },
          "metadata": {
            "tags": []
          },
          "execution_count": 58
        }
      ]
    },
    {
      "cell_type": "code",
      "metadata": {
        "id": "DaUo7dk9Y2Aj"
      },
      "source": [
        ""
      ],
      "execution_count": null,
      "outputs": []
    }
  ]
}